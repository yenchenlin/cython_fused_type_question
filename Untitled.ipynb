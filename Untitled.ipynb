{
 "cells": [
  {
   "cell_type": "code",
   "execution_count": 8,
   "metadata": {
    "collapsed": false
   },
   "outputs": [
    {
     "name": "stdout",
     "output_type": "stream",
     "text": [
      "The Cython extension is already loaded. To reload it, use:\n",
      "  %reload_ext Cython\n"
     ]
    }
   ],
   "source": [
    "%load_ext Cython"
   ]
  },
  {
   "cell_type": "code",
   "execution_count": 25,
   "metadata": {
    "collapsed": false
   },
   "outputs": [
    {
     "name": "stderr",
     "output_type": "stream",
     "text": [
      "\n",
      "Error compiling Cython file:\n",
      "------------------------------------------------------------\n",
      "...\n",
      "    cdef floating a = 5\n",
      "    print(a)\n",
      "\n",
      "\n",
      "def test2 (int x): # this would output error\n",
      "    cdef floating a = 5\n",
      "                     ^\n",
      "------------------------------------------------------------\n",
      "\n",
      "/Users/YenChen/.ipython/cython/_cython_magic_1057f6d8bf3779c51505f6f9ddc91043.pyx:13:22: Cannot coerce to a type that is not specialized\n",
      "\n",
      "Error compiling Cython file:\n",
      "------------------------------------------------------------\n",
      "...\n",
      "    print(a)\n",
      "\n",
      "\n",
      "def test2 (int x): # this would output error\n",
      "    cdef floating a = 5\n",
      "    print(a)\n",
      "          ^\n",
      "------------------------------------------------------------\n",
      "\n",
      "/Users/YenChen/.ipython/cython/_cython_magic_1057f6d8bf3779c51505f6f9ddc91043.pyx:14:11: Type is not specialized\n",
      "\n",
      "Error compiling Cython file:\n",
      "------------------------------------------------------------\n",
      "...\n",
      "    cdef floating a = 5\n",
      "    print(a)\n",
      "\n",
      "\n",
      "def test2 (int x): # this would output error\n",
      "    cdef floating a = 5\n",
      "        ^\n",
      "------------------------------------------------------------\n",
      "\n",
      "/Users/YenChen/.ipython/cython/_cython_magic_1057f6d8bf3779c51505f6f9ddc91043.pyx:13:9: Invalid use of fused types, type cannot be specialized\n"
     ]
    }
   ],
   "source": [
    "%%cython\n",
    "\n",
    "cimport cython\n",
    "import numpy as np\n",
    "cimport numpy as np\n",
    "from cython cimport floating\n",
    "\n",
    "def test1 (floating x): # this works well\n",
    "    cdef floating a = 5\n",
    "    print(a)\n",
    "\n",
    "\n",
    "def test2 (int x): # this would output error during compiling\n",
    "    cdef floating a = 5\n",
    "    print(a)\n"
   ]
  },
  {
   "cell_type": "code",
   "execution_count": 24,
   "metadata": {
    "collapsed": false
   },
   "outputs": [
    {
     "name": "stdout",
     "output_type": "stream",
     "text": [
      "5.0\n"
     ]
    }
   ],
   "source": [
    "test1(10.5)"
   ]
  },
  {
   "cell_type": "code",
   "execution_count": null,
   "metadata": {
    "collapsed": true
   },
   "outputs": [],
   "source": []
  }
 ],
 "metadata": {
  "kernelspec": {
   "display_name": "Python 2",
   "language": "python",
   "name": "python2"
  },
  "language_info": {
   "codemirror_mode": {
    "name": "ipython",
    "version": 2
   },
   "file_extension": ".py",
   "mimetype": "text/x-python",
   "name": "python",
   "nbconvert_exporter": "python",
   "pygments_lexer": "ipython2",
   "version": "2.7.11"
  }
 },
 "nbformat": 4,
 "nbformat_minor": 0
}
